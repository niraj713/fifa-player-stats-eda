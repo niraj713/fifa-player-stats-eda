{
 "cells": [
  {
   "cell_type": "code",
   "execution_count": null,
   "metadata": {},
   "outputs": [],
   "source": [
    "import pandas as pd\n",
    "import matplotlib.pyplot as plt\n",
    "import seaborn as sns\n",
    "\n",
    "# Load the dataset\n",
    "df = pd.read_csv('../data/raw/players_21.csv')\n",
    "\n",
    "# Show first few rows\n",
    "df.head()\n"
   ]
  },
  {
   "cell_type": "code",
   "execution_count": null,
   "metadata": {},
   "outputs": [],
   "source": [
    "# Show the first 5 rows of the data\n",
    "df.head()\n",
    "\n"
   ]
  },
  {
   "cell_type": "code",
   "execution_count": null,
   "metadata": {},
   "outputs": [],
   "source": [
    "# Check the shape (rows, columns)\n",
    "print(\"Shape of dataset:\", df.shape)\n",
    "\n",
    "# Check all column names\n",
    "print(\"\\nColumn Names:\\n\", df.columns.tolist())\n",
    "\n",
    "# Basic info about data types and missing values\n",
    "print(\"\\nData Types and Non-Null Counts:\\n\")\n",
    "df.info()\n",
    "\n",
    "# Count missing values in each column\n",
    "print(\"\\nMissing values in each column:\\n\")\n",
    "print(df.isnull().sum())\n"
   ]
  },
  {
   "cell_type": "code",
   "execution_count": null,
   "metadata": {},
   "outputs": [],
   "source": [
    "# Visualizing missing values using a heatmap\n",
    "plt.figure(figsize=(20, 8))\n",
    "sns.heatmap(df.isnull(), cbar=False, cmap='viridis')\n",
    "plt.title(\"Missing Values Heatmap\")\n",
    "plt.show()\n"
   ]
  },
  {
   "cell_type": "code",
   "execution_count": null,
   "metadata": {},
   "outputs": [],
   "source": [
    "df = df.drop(columns=['player_traits', 'player_tags', 'nation_position', 'nation_jersey_number', 'loaned_from'])\n",
    "df['release_clause_eur'] = df['release_clause_eur'].fillna(0)\n",
    "df['team_jersey_number'] = df['team_jersey_number'].fillna(0)\n"
   ]
  },
  {
   "cell_type": "code",
   "execution_count": null,
   "metadata": {},
   "outputs": [],
   "source": [
    "top_overall = df[['short_name', 'long_name', 'age', 'club_name', 'nationality', 'overall', 'potential', 'value_eur']].sort_values(by='overall', ascending=False).head(10)\n",
    "top_overall\n"
   ]
  },
  {
   "cell_type": "code",
   "execution_count": null,
   "metadata": {},
   "outputs": [],
   "source": [
    "import matplotlib.pyplot as plt\n",
    "import seaborn as sns\n",
    "\n",
    "plt.figure(figsize=(12,6))\n",
    "sns.barplot(data=top_overall, x='overall', y='short_name', palette='viridis')\n",
    "plt.title('Top 10 Players by Overall Rating')\n",
    "plt.xlabel('Overall Rating')\n",
    "plt.ylabel('Player Name')\n",
    "plt.show()\n",
    "\n"
   ]
  },
  {
   "cell_type": "code",
   "execution_count": null,
   "metadata": {},
   "outputs": [],
   "source": [
    "top_potential = df[['short_name', 'long_name', 'age', 'club_name', 'nationality', 'overall', 'potential', 'value_eur']].sort_values(by='potential', ascending=False).head(10)\n",
    "top_potential\n"
   ]
  },
  {
   "cell_type": "code",
   "execution_count": null,
   "metadata": {},
   "outputs": [],
   "source": [
    "plt.figure(figsize=(12,6))\n",
    "sns.barplot(data=top_potential, x='potential', y='short_name', palette='coolwarm')\n",
    "plt.title('Top 10 Players by Potential')\n",
    "plt.xlabel('Potential')\n",
    "plt.ylabel('Player Name')\n",
    "plt.show()\n"
   ]
  },
  {
   "cell_type": "code",
   "execution_count": null,
   "metadata": {},
   "outputs": [],
   "source": [
    "plt.figure(figsize=(10,6))\n",
    "sns.scatterplot(data=df, x='age', y='overall', alpha=0.5)\n",
    "plt.title('Overall Rating vs Age')\n",
    "plt.xlabel('Age')\n",
    "plt.ylabel('Overall Rating')\n",
    "plt.grid(True)\n",
    "plt.show()\n"
   ]
  },
  {
   "cell_type": "code",
   "execution_count": null,
   "metadata": {},
   "outputs": [],
   "source": [
    "# Filter only numeric columns\n",
    "numeric_df = df.select_dtypes(include=['float64', 'int64'])\n",
    "\n",
    "# Compute correlation matrix\n",
    "corr = numeric_df.corr()\n",
    "\n",
    "# Plot the heatmap\n",
    "plt.figure(figsize=(16,12))\n",
    "sns.heatmap(corr, cmap='coolwarm', annot=False, linewidths=0.5)\n",
    "plt.title('Correlation Heatmap of Player Stats')\n",
    "plt.show()\n"
   ]
  },
  {
   "cell_type": "code",
   "execution_count": null,
   "metadata": {},
   "outputs": [],
   "source": [
    "# Count player positions\n",
    "position_counts = df['player_positions'].str.split(',').str[0].value_counts().head(10)\n",
    "\n",
    "# Pie chart\n",
    "plt.figure(figsize=(8,8))\n",
    "plt.pie(position_counts, labels=position_counts.index, autopct='%1.1f%%', startangle=140)\n",
    "plt.title('Top 10 Player Primary Positions')\n",
    "plt.axis('equal')\n",
    "plt.show()\n",
    "\n"
   ]
  },
  {
   "cell_type": "code",
   "execution_count": null,
   "metadata": {},
   "outputs": [],
   "source": [
    "# Group by club and calculate average overall rating\n",
    "club_overall = df.groupby('club_name')['overall'].mean().sort_values(ascending=False).head(15)\n",
    "\n",
    "# Bar plot\n",
    "plt.figure(figsize=(12,6))\n",
    "sns.barplot(x=club_overall.values, y=club_overall.index, palette='viridis')\n",
    "plt.xlabel('Average Overall Rating')\n",
    "plt.ylabel('Club')\n",
    "plt.title('Top 15 Clubs by Average Player Rating')\n",
    "plt.show()\n"
   ]
  },
  {
   "cell_type": "code",
   "execution_count": null,
   "metadata": {},
   "outputs": [],
   "source": [
    "plt.figure(figsize=(10,6))\n",
    "sns.scatterplot(data=df, x='age', y='overall', alpha=0.5)\n",
    "plt.title('Age vs Overall Rating')\n",
    "plt.xlabel('Age')\n",
    "plt.ylabel('Overall Rating')\n",
    "plt.grid(True)\n",
    "plt.show()\n"
   ]
  }
 ],
 "metadata": {
  "kernelspec": {
   "display_name": "venv",
   "language": "python",
   "name": "python3"
  },
  "language_info": {
   "codemirror_mode": {
    "name": "ipython",
    "version": 3
   },
   "file_extension": ".py",
   "mimetype": "text/x-python",
   "name": "python",
   "nbconvert_exporter": "python",
   "pygments_lexer": "ipython3",
   "version": "3.13.5"
  },
  "orig_nbformat": 4
 },
 "nbformat": 4,
 "nbformat_minor": 2
}
